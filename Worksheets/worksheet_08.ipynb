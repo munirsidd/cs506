{
 "cells": [
  {
   "attachments": {},
   "cell_type": "markdown",
   "metadata": {},
   "source": [
    "# Worksheet 08\n",
    "\n",
    "Name: Muniruddin Ahmed Siddiqui  \n",
    "UID: U42483225\n",
    "\n",
    "### Topics\n",
    "\n",
    "- Soft Clustering\n",
    "- Clustering Aggregation\n",
    "\n",
    "### Probability Review\n",
    "\n",
    "Read through [the following](https://medium.com/@gallettilance/overview-of-probability-3272b72c82c8)\n",
    "\n",
    "### Soft Clustering\n",
    "\n",
    "We generate 10 data points that come from a normal distribution with mean 5 and variance 1."
   ]
  },
  {
   "cell_type": "code",
   "execution_count": 16,
   "metadata": {},
   "outputs": [
    {
     "name": "stdout",
     "output_type": "stream",
     "text": [
      "[6.919475351130517, 7.52975018421269, 4.168528452196004, 5.131700930723313, 5.07773614097884, 4.056745510565915, 5.15598286007786, 3.6263679375341975, 5.929164230830251, 4.922928569622708]\n"
     ]
    }
   ],
   "source": [
    "import random\n",
    "import numpy as np\n",
    "from sklearn.cluster import KMeans\n",
    "\n",
    "mean = 5\n",
    "stdev = 1\n",
    "\n",
    "s1 = np.random.normal(mean, stdev, 10).tolist()\n",
    "print(s1)"
   ]
  },
  {
   "cell_type": "markdown",
   "metadata": {},
   "source": [
    "a) Generate 10 more data points, this time coming from a normal distribution with mean 8 and variance 1."
   ]
  },
  {
   "cell_type": "code",
   "execution_count": 17,
   "metadata": {},
   "outputs": [
    {
     "name": "stdout",
     "output_type": "stream",
     "text": [
      "[6.70303506123015, 8.425073600135251, 6.058001101054962, 8.16599915871396, 8.26038884862663, 8.496033616191022, 8.074364814207303, 7.642846394028064, 8.786395077531184, 9.631291726546957]\n"
     ]
    }
   ],
   "source": [
    "s2 = np.random.normal(8, 1, 10).tolist()\n",
    "print(s2)"
   ]
  },
  {
   "cell_type": "markdown",
   "metadata": {},
   "source": [
    "b) Flip a fair coin 10 times. If the coin lands on H, then pick the last data point of `s1` and remove it from `s1`, if T then pick the last data point from `s2` and remove it from `s2`. Add these 10 points to a list called `data`."
   ]
  },
  {
   "cell_type": "code",
   "execution_count": 18,
   "metadata": {},
   "outputs": [
    {
     "name": "stdout",
     "output_type": "stream",
     "text": [
      "[4.922928569622708, 5.929164230830251, 3.6263679375341975, 9.631291726546957, 8.786395077531184, 5.15598286007786, 7.642846394028064, 4.056745510565915, 5.07773614097884, 8.074364814207303]\n"
     ]
    }
   ],
   "source": [
    "data = []\n",
    "for i in range(10):\n",
    "    # flip coin\n",
    "    coin_output = random.choice([0, 1])\n",
    "    if coin_output == 0:\n",
    "        p1 = s1.pop(-1)\n",
    "        data.append(p1)\n",
    "    else:\n",
    "        p2 = s2.pop(-1)\n",
    "        data.append(p2)\n",
    "print(data)"
   ]
  },
  {
   "cell_type": "markdown",
   "metadata": {},
   "source": [
    "c) This `data` is a Gaussian Mixture Distribution with 2 mixture components. Over the next few questions we will walk through the GMM algorithm to see if we can uncover the parameters we used to generate this data. First, please list all these parameters of the GMM that created `data` and the values we know they have."
   ]
  },
  {
   "cell_type": "markdown",
   "metadata": {},
   "source": [
    "mean_1 = 5, var_1 = 1, prob_1 = 0.5  \n",
    "mean_2 = 8, var_2 = 1, prob_2 = 0.5"
   ]
  },
  {
   "cell_type": "markdown",
   "metadata": {},
   "source": [
    "d) Let's assume there are two mixture components (note: we could plot the data and make the observation that there are two clusters). The EM algorithm asks us to start with a random `mean_j`, `variance_j`, `P(S_j)` for each component j. One method we could use to find sensible values for these is to apply K means with k=2 here.\n",
    "\n",
    "1. the centroids would be the estimates of the `mean_j`\n",
    "2. the intra-cluster variance could be the estimate of `variance_j`\n",
    "3. the proportion of points in each cluster could be the estimate of `P(S_j)`\n",
    "\n",
    "Go through this process and list the parameter estimates it gives. Are they close or far from the true values?"
   ]
  },
  {
   "cell_type": "code",
   "execution_count": 19,
   "metadata": {},
   "outputs": [
    {
     "name": "stdout",
     "output_type": "stream",
     "text": [
      "[4.922928569622708, 5.929164230830251, 3.6263679375341975, 5.15598286007786, 4.056745510565915, 5.07773614097884]\n",
      "[9.631291726546957, 8.786395077531184, 7.642846394028064, 8.074364814207303]\n",
      "P(S_1) = 0.6,  P(S_2) = 0.4\n",
      "mean_1 = 4.7948208749349615,  mean_2 = 8.533724503078378\n",
      "var_1 = 0.5706104946973347,  var_2 = 0.5682928395429074\n"
     ]
    },
    {
     "name": "stderr",
     "output_type": "stream",
     "text": [
      "c:\\Users\\munir\\AppData\\Local\\Programs\\Python\\Python310\\lib\\site-packages\\sklearn\\cluster\\_kmeans.py:1416: FutureWarning: The default value of `n_init` will change from 10 to 'auto' in 1.4. Set the value of `n_init` explicitly to suppress the warning\n",
      "  super()._check_params_vs_input(X, default_n_init=10)\n"
     ]
    }
   ],
   "source": [
    "kmeans = KMeans(2, init='k-means++').fit(X=np.array(data).reshape(-1, 1))\n",
    "\n",
    "s1 = [x[0] for x in filter(lambda x: x[1] == 0, zip(data, kmeans.labels_))]\n",
    "print(s1)\n",
    "s2 = [x[0] for x in filter(lambda x: x[1] == 1, zip(data, kmeans.labels_))]\n",
    "print(s2)\n",
    "\n",
    "prob_s = [ len(s1) / (len(s1) + len(s2)) , len(s2) / (len(s1) + len(s2)) ]\n",
    "mean = [ sum(s1)/len(s1) , sum(s2)/len(s2) ]\n",
    "var = [ sum(map(lambda x : (x - mean[0])**2, s1)) / len(s1) , sum(map(lambda x : (x - mean[1])**2, s2)) / len(s2) ]\n",
    "\n",
    "print(\"P(S_1) = \" + str(prob_s[0]) + \",  P(S_2) = \" + str(prob_s[1]))\n",
    "print(\"mean_1 = \" + str(mean[0]) + \",  mean_2 = \" + str(mean[1]))\n",
    "print(\"var_1 = \" + str(var[0]) + \",  var_2 = \" + str(var[1]))"
   ]
  },
  {
   "cell_type": "markdown",
   "metadata": {},
   "source": [
    "The mean values are close to the true values, but the variance values are quite different. The probabilites are also slightly different."
   ]
  },
  {
   "cell_type": "markdown",
   "metadata": {},
   "source": [
    "e) For each data point, compute `P(S_j | X_i)`. Comment on which cluster you think each point belongs to based on the estimated probabilities. How does that compare to the truth?"
   ]
  },
  {
   "cell_type": "code",
   "execution_count": 20,
   "metadata": {},
   "outputs": [
    {
     "name": "stdout",
     "output_type": "stream",
     "text": [
      "point =  4.922928569622708\n",
      "probability of observing that point if it came from cluster 0 =  0.6817498831026917\n",
      "probability of observing that point if it came from cluster 1 =  1.202396801937155e-09\n",
      "point =  5.929164230830251\n",
      "probability of observing that point if it came from cluster 0 =  0.09692124907238202\n",
      "probability of observing that point if it came from cluster 1 =  1.928153018196993e-05\n",
      "point =  3.6263679375341975\n",
      "probability of observing that point if it came from cluster 0 =  0.08590808342103569\n",
      "probability of observing that point if it came from cluster 1 =  4.5098627371948446e-17\n",
      "point =  9.631291726546957\n",
      "probability of observing that point if it came from cluster 0 =  1.7551169087125603e-16\n",
      "probability of observing that point if it came from cluster 1 =  0.10873310208646987\n",
      "point =  8.786395077531184\n",
      "probability of observing that point if it came from cluster 0 =  1.6547469448005685e-11\n",
      "probability of observing that point if it came from cluster 1 =  0.6359339257676454\n",
      "point =  5.15598286007786\n",
      "probability of observing that point if it came from cluster 0 =  0.5722402481872209\n",
      "probability of observing that point if it came from cluster 1 =  1.4967413022835218e-08\n",
      "point =  7.642846394028064\n",
      "probability of observing that point if it came from cluster 0 =  2.7227178186776245e-06\n",
      "probability of observing that point if it came from cluster 1 =  0.20544716780196431\n",
      "point =  4.056745510565915\n",
      "probability of observing that point if it came from cluster 0 =  0.30287348418595833\n",
      "probability of observing that point if it came from cluster 1 =  2.342860840412615e-14\n",
      "point =  5.07773614097884\n",
      "probability of observing that point if it came from cluster 0 =  0.6182857034601414\n",
      "probability of observing that point if it came from cluster 1 =  6.540602634530432e-09\n",
      "point =  8.074364814207303\n",
      "probability of observing that point if it came from cluster 0 =  4.694136676696122e-08\n",
      "probability of observing that point if it came from cluster 1 =  0.5063603237463813\n",
      "4.922928569622708\n",
      "Probability of coming from S_1 = 0.9999999988242053\n",
      "Probability of coming from S_2 = 1.1757946526774022e-09\n",
      "\n",
      "5.929164230830251\n",
      "Probability of coming from S_1 = 0.9998673908046771\n",
      "Probability of coming from S_2 = 0.00013260919532289648\n",
      "\n",
      "3.6263679375341975\n",
      "Probability of coming from S_1 = 0.9999999999999996\n",
      "Probability of coming from S_2 = 3.499758158256965e-16\n",
      "\n",
      "9.631291726546957\n",
      "Probability of coming from S_1 = 2.421227126377027e-15\n",
      "Probability of coming from S_2 = 0.9999999999999976\n",
      "\n",
      "8.786395077531184\n",
      "Probability of coming from S_1 = 3.9031105536754745e-11\n",
      "Probability of coming from S_2 = 0.9999999999609688\n",
      "\n",
      "5.15598286007786\n",
      "Probability of coming from S_1 = 0.9999999825627869\n",
      "Probability of coming from S_2 = 1.7437213139364654e-08\n",
      "\n",
      "7.642846394028064\n",
      "Probability of coming from S_1 = 1.9878568228086822e-05\n",
      "Probability of coming from S_2 = 0.9999801214317718\n",
      "\n",
      "4.056745510565915\n",
      "Probability of coming from S_1 = 0.9999999999999484\n",
      "Probability of coming from S_2 = 5.156962588321805e-14\n",
      "\n",
      "5.07773614097884\n",
      "Probability of coming from S_1 = 0.9999999929475941\n",
      "Probability of coming from S_2 = 7.052405871913222e-09\n",
      "\n",
      "8.074364814207303\n",
      "Probability of coming from S_1 = 1.3905520843008726e-07\n",
      "Probability of coming from S_2 = 0.9999998609447915\n",
      "\n"
     ]
    }
   ],
   "source": [
    "from scipy.stats import norm\n",
    "\n",
    "prob_s0_x = [] # P(S_0 | X_i)\n",
    "prob_s1_x = [] # P(S_1 | X_i)\n",
    "prob_x = [] # P(X_i)\n",
    "\n",
    "k = 2\n",
    "\n",
    "for p in data:\n",
    "    print(\"point = \", p)\n",
    "    pdf_i = []\n",
    "\n",
    "    for j in range(k):\n",
    "        # P(X_i | S_j)\n",
    "        pdf_i.append(norm.pdf(p, mean[j], var[j]))\n",
    "        print(\"probability of observing that point if it came from cluster \" + str(j) + \" = \", pdf_i[j])\n",
    "        # P(S_j) already computed\n",
    "        prob_s[j]\n",
    "\n",
    "    # P(X_i) = P(S_0)P(X_i | S_0) + P(S_1)P(X_i | S_1)\n",
    "    prob_x = prob_s[0] * pdf_i[0] + prob_s[1] * pdf_i[1]\n",
    "\n",
    "    # P(S_j | X_i) = P(X_i | S_j)P(S_j) / P(X_i)\n",
    "    prob_s0_x.append( prob_s[0] * pdf_i[0] / prob_x )\n",
    "    prob_s1_x.append( prob_s[1] * pdf_i[1] / prob_x )\n",
    "\n",
    "probs = zip(data, prob_s0_x, prob_s1_x)\n",
    "for p in probs:\n",
    "    print(p[0])\n",
    "    print(\"Probability of coming from S_1 = \" + str(p[1]))\n",
    "    print(\"Probability of coming from S_2 = \" + str(p[2]))\n",
    "    print()\n"
   ]
  },
  {
   "cell_type": "markdown",
   "metadata": {},
   "source": [
    "f) Having computed `P(S_j | X_i)`, update the estimates of `mean_j`, `var_j`, and `P(S_j)`. How different are these values from the original ones you got from K means? briefly comment."
   ]
  },
  {
   "cell_type": "code",
   "execution_count": 21,
   "metadata": {},
   "outputs": [
    {
     "name": "stdout",
     "output_type": "stream",
     "text": [
      "P(S_1) = 0.6,  P(S_2) = 0.4\n",
      "mean_1 = 4.794805314319554,  mean_2 = 8.533642579657043\n",
      "var_1 = 0.5706198881423987,  var_2 = 0.5684978466220023\n"
     ]
    }
   ],
   "source": [
    "prob_c = [sum(prob_s0_x)/ len(prob_s0_x), sum(prob_s1_x)/ len(prob_s1_x) ]\n",
    "mean = [sum([x[0] * x[1] for x in zip(prob_s0_x, data)]) / sum(prob_s0_x), sum([x[0] * x[1] for x in zip(prob_s1_x, data)]) / sum(prob_s1_x) ]\n",
    "var = [ sum([x[0] * ((x[1] - mean[0])**2) for x in zip(prob_s0_x, data)]) / sum(prob_s0_x) , sum([x[0] * ((x[1] - mean[1])**2) for x in zip(prob_s1_x, data)]) / sum(prob_s1_x) ]\n",
    "\n",
    "print(\"P(S_1) = \" + str(prob_s[0]) + \",  P(S_2) = \" + str(prob_s[1]))\n",
    "print(\"mean_1 = \" + str(mean[0]) + \",  mean_2 = \" + str(mean[1]))\n",
    "print(\"var_1 = \" + str(var[0]) + \",  var_2 = \" + str(var[1]))"
   ]
  },
  {
   "cell_type": "markdown",
   "metadata": {},
   "source": [
    "The values are similar to the ones obtained from K means."
   ]
  },
  {
   "cell_type": "markdown",
   "metadata": {},
   "source": [
    "g) Update `P(S_j | X_i)`. Comment on any differences or lack thereof you observe."
   ]
  },
  {
   "cell_type": "code",
   "execution_count": 22,
   "metadata": {},
   "outputs": [
    {
     "name": "stdout",
     "output_type": "stream",
     "text": [
      "4.922928569622708\n",
      "Probability of coming from S_0 = 0.9999999988062223\n",
      "Probability of coming from S_1 = 1.1937777501558037e-09\n",
      "\n",
      "5.929164230830251\n",
      "Probability of coming from S_0 = 0.9998663357910818\n",
      "Probability of coming from S_1 = 0.00013366420891825599\n",
      "\n",
      "3.6263679375341975\n",
      "Probability of coming from S_0 = 0.9999999999999996\n",
      "Probability of coming from S_1 = 3.598081525740268e-16\n",
      "\n",
      "9.631291726546957\n",
      "Probability of coming from S_0 = 2.4216682052105593e-15\n",
      "Probability of coming from S_1 = 0.9999999999999976\n",
      "\n",
      "8.786395077531184\n",
      "Probability of coming from S_0 = 3.906643895071176e-11\n",
      "Probability of coming from S_1 = 0.9999999999609336\n",
      "\n",
      "5.15598286007786\n",
      "Probability of coming from S_0 = 0.9999999823292052\n",
      "Probability of coming from S_1 = 1.7670794792082082e-08\n",
      "\n",
      "7.642846394028064\n",
      "Probability of coming from S_0 = 1.9867825474058176e-05\n",
      "Probability of coming from S_1 = 0.999980132174526\n",
      "\n",
      "4.056745510565915\n",
      "Probability of coming from S_0 = 0.9999999999999472\n",
      "Probability of coming from S_1 = 5.277744061309102e-14\n",
      "\n",
      "5.07773614097884\n",
      "Probability of coming from S_0 = 0.9999999928487221\n",
      "Probability of coming from S_1 = 7.151277922031134e-09\n",
      "\n",
      "8.074364814207303\n",
      "Probability of coming from S_0 = 1.3910142966375833e-07\n",
      "Probability of coming from S_1 = 0.9999998608985703\n",
      "\n"
     ]
    }
   ],
   "source": [
    "prob_s0_x = []  # P(S_0 | X_i)\n",
    "prob_s1_x = []  # P(S_1 | X_i)\n",
    "\n",
    "for p in data:\n",
    "    pdf_i = []\n",
    "\n",
    "    for j in range(k):\n",
    "        # P(X_i | S_j)\n",
    "        pdf_i.append(norm.pdf(p, mean[j], var[j]))\n",
    "\n",
    "    # P(S_0 | X_i) = P(X_i | S_0)P(S_0) / P(X_i)\n",
    "    prob_s0_x_i = (pdf_i[0] * prob_c[0]) / (pdf_i[0] * prob_c[0] + pdf_i[1] * prob_c[1])\n",
    "    prob_s0_x.append(prob_s0_x_i)\n",
    "\n",
    "    # P(S_1 | X_i) = P(X_i | S_1)P(S_1) / P(X_i)\n",
    "    prob_s1_x_i = (pdf_i[1] * prob_c[1]) / (pdf_i[0] * prob_c[0] + pdf_i[1] * prob_c[1])\n",
    "    prob_s1_x.append(prob_s1_x_i)\n",
    "\n",
    "probs = zip(data, prob_s0_x, prob_s1_x)\n",
    "for p in probs:\n",
    "    print(p[0])\n",
    "    print(\"Probability of coming from S_0 = \" + str(p[1]))\n",
    "    print(\"Probability of coming from S_1 = \" + str(p[2]))\n",
    "    print()"
   ]
  },
  {
   "cell_type": "markdown",
   "metadata": {},
   "source": [
    "h) Use `P(S_j | X_i)` to create a hard assignment - label each point as belonging to a specific cluster (0 or 1)"
   ]
  },
  {
   "cell_type": "code",
   "execution_count": 23,
   "metadata": {},
   "outputs": [
    {
     "name": "stdout",
     "output_type": "stream",
     "text": [
      "Data point 0 belongs to Cluster 0\n",
      "Data point 1 belongs to Cluster 0\n",
      "Data point 2 belongs to Cluster 0\n",
      "Data point 3 belongs to Cluster 1\n",
      "Data point 4 belongs to Cluster 1\n",
      "Data point 5 belongs to Cluster 0\n",
      "Data point 6 belongs to Cluster 1\n",
      "Data point 7 belongs to Cluster 0\n",
      "Data point 8 belongs to Cluster 0\n",
      "Data point 9 belongs to Cluster 1\n"
     ]
    }
   ],
   "source": [
    "hard_assignments = []\n",
    "for p_s0, p_s1 in zip(prob_s0_x, prob_s1_x):\n",
    "    if p_s0 > p_s1:\n",
    "        hard_assignments.append(0) \n",
    "    else:\n",
    "        hard_assignments.append(1) \n",
    "\n",
    "for i, assignment in enumerate(hard_assignments):\n",
    "    print(f\"Data point {i} belongs to Cluster {assignment}\")"
   ]
  }
 ],
 "metadata": {
  "kernelspec": {
   "display_name": "Python 3",
   "language": "python",
   "name": "python3"
  },
  "language_info": {
   "codemirror_mode": {
    "name": "ipython",
    "version": 3
   },
   "file_extension": ".py",
   "mimetype": "text/x-python",
   "name": "python",
   "nbconvert_exporter": "python",
   "pygments_lexer": "ipython3",
   "version": "3.10.7"
  },
  "orig_nbformat": 4,
  "vscode": {
   "interpreter": {
    "hash": "e7370f93d1d0cde622a1f8e1c04877d8463912d04d973331ad4851f04de6915a"
   }
  }
 },
 "nbformat": 4,
 "nbformat_minor": 2
}
